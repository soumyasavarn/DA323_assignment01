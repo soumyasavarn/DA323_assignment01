{
 "cells": [
  {
   "cell_type": "code",
   "execution_count": null,
   "id": "b533d2de-e997-459d-b342-f960a0e54890",
   "metadata": {},
   "outputs": [],
   "source": [
    "import os\n",
    "import pandas as pd\n",
    "import whisper\n",
    "import requests\n",
    "\n",
    "AUDIO_FOLDER = \"Public_Airwaves\"  \n",
    "OUTPUT_CSV = \"transcriptions.csv\"\n",
    "\n",
    "# Loading Whisper model (use \"small\" or \"base\" for faster processing)\n",
    "model = whisper.load_model(\"small\")\n",
    "\n",
    "def transcribe_audio(file_path):\n",
    "    \"\"\"Transcribe speech from an audio file using Whisper.\"\"\"\n",
    "    result = model.transcribe(file_path)\n",
    "    return result[\"text\"]\n",
    "\n",
    "def fetch_external_text():\n",
    "    \"\"\"Fetch external news headlines as additional text data.\"\"\"\n",
    "    url = \"https://newsapi.org/v2/top-headlines?country=us&apiKey=YOUR_NEWSAPI_KEY\"\n",
    "    response = requests.get(url)\n",
    "    if response.status_code == 200:\n",
    "        articles = response.json().get(\"articles\", [])\n",
    "        return [article[\"title\"] for article in articles if \"title\" in article][:5]  # Return top 5 titles\n",
    "    return []\n",
    "\n",
    "data = []\n",
    "audio_files = [f for f in os.listdir(AUDIO_FOLDER) if f.endswith(\".wav\") or f.endswith(\".mp3\")]\n",
    "\n",
    "for file in audio_files:\n",
    "    file_path = os.path.join(AUDIO_FOLDER, file)\n",
    "    text = transcribe_audio(file_path)\n",
    "    external_text = fetch_external_text()\n",
    "    \n",
    "    data.append({\n",
    "        \"File\": file,\n",
    "        \"Transcription\": text,\n",
    "        \"External_Text\": \" | \".join(external_text)\n",
    "    })\n",
    "\n",
    "df = pd.DataFrame(data)\n",
    "df.to_csv(OUTPUT_CSV, index=False)\n",
    "\n",
    "print(f\"Transcriptions saved to {OUTPUT_CSV}\")\n"
   ]
  }
 ],
 "metadata": {
  "kernelspec": {
   "display_name": "Python 3 (ipykernel)",
   "language": "python",
   "name": "python3"
  },
  "language_info": {
   "codemirror_mode": {
    "name": "ipython",
    "version": 3
   },
   "file_extension": ".py",
   "mimetype": "text/x-python",
   "name": "python",
   "nbconvert_exporter": "python",
   "pygments_lexer": "ipython3",
   "version": "3.12.4"
  }
 },
 "nbformat": 4,
 "nbformat_minor": 5
}
